{
  "nbformat": 4,
  "nbformat_minor": 0,
  "metadata": {
    "colab": {
      "provenance": [],
      "gpuType": "T4"
    },
    "kernelspec": {
      "name": "python3",
      "display_name": "Python 3"
    },
    "language_info": {
      "name": "python"
    },
    "accelerator": "GPU"
  },
  "cells": [
    {
      "cell_type": "code",
      "source": [
        "!pip install requests\n",
        "!pip install pydub\n",
        "!pip freeze>requirements.txt"
      ],
      "metadata": {
        "colab": {
          "base_uri": "https://localhost:8080/"
        },
        "id": "5pbw4MRTgHes",
        "outputId": "db6e71d0-e372-4dfa-864a-05a65efcd269"
      },
      "execution_count": null,
      "outputs": [
        {
          "output_type": "stream",
          "name": "stdout",
          "text": [
            "Requirement already satisfied: requests in /usr/local/lib/python3.10/dist-packages (2.32.3)\n",
            "Requirement already satisfied: charset-normalizer<4,>=2 in /usr/local/lib/python3.10/dist-packages (from requests) (3.3.2)\n",
            "Requirement already satisfied: idna<4,>=2.5 in /usr/local/lib/python3.10/dist-packages (from requests) (3.7)\n",
            "Requirement already satisfied: urllib3<3,>=1.21.1 in /usr/local/lib/python3.10/dist-packages (from requests) (2.0.7)\n",
            "Requirement already satisfied: certifi>=2017.4.17 in /usr/local/lib/python3.10/dist-packages (from requests) (2024.7.4)\n",
            "Collecting pydub\n",
            "  Downloading pydub-0.25.1-py2.py3-none-any.whl.metadata (1.4 kB)\n",
            "Downloading pydub-0.25.1-py2.py3-none-any.whl (32 kB)\n",
            "Installing collected packages: pydub\n",
            "Successfully installed pydub-0.25.1\n"
          ]
        }
      ]
    },
    {
      "cell_type": "code",
      "source": [
        "from google.colab import drive\n",
        "drive.mount('/content/drive')"
      ],
      "metadata": {
        "colab": {
          "base_uri": "https://localhost:8080/"
        },
        "id": "LHVmVcID9Xre",
        "outputId": "a5f566e4-770c-43e1-ec3d-ce4a60ea4f84"
      },
      "execution_count": null,
      "outputs": [
        {
          "output_type": "stream",
          "name": "stdout",
          "text": [
            "Mounted at /content/drive\n"
          ]
        }
      ]
    },
    {
      "cell_type": "code",
      "source": [
        "import os\n",
        "import requests\n",
        "from io import BytesIO\n",
        "from pydub import AudioSegment"
      ],
      "metadata": {
        "id": "4LMxAby1J0hF"
      },
      "execution_count": null,
      "outputs": []
    },
    {
      "cell_type": "code",
      "source": [
        "video_folder_path = \"/content/drive/MyDrive/MAESTRIA/4 SEMESTRE/Deep Learning/data/17082024/\"\n",
        "audio_folder_path = \"/content/drive/MyDrive/MAESTRIA/4 SEMESTRE/Deep Learning/data/audio/\"\n",
        "\n",
        "os.makedirs(audio_folder_path, exist_ok=True)\n",
        "\n",
        "\n",
        "mp4_files = [f for f in os.listdir(video_folder_path) if f.endswith('.mp4')]\n",
        "mp4_files\n",
        "\n",
        "for mp4_file in mp4_files:\n",
        "    video_file_path = os.path.join(video_folder_path, mp4_file)\n",
        "    audio = AudioSegment.from_file(video_file_path, format=\"mp4\")\n",
        "    audio_output_path = os.path.join(audio_folder_path, f\"{os.path.splitext(mp4_file)[0]}.mp3\")\n",
        "    audio.export(audio_output_path, format=\"mp3\")\n",
        "\n",
        "    print(f\"Audio extraído y guardado exitosamente: {audio_output_path}\")\n",
        "\n",
        "print(\"Proceso completado.\")"
      ],
      "metadata": {
        "colab": {
          "base_uri": "https://localhost:8080/"
        },
        "id": "2mJFE6q3gZXO",
        "outputId": "a15072e7-5d5d-4923-f6c8-c83572122d2b"
      },
      "execution_count": null,
      "outputs": [
        {
          "output_type": "stream",
          "name": "stdout",
          "text": [
            "Audio extraído y guardado exitosamente: /content/drive/MyDrive/MAESTRIA/4 SEMESTRE/Deep Learning/data/audio/Universidad Central - Deep Learning - Clase 2: Regularización de Redes Neuronales (2024-08-17 07:15 GMT-5).mp3\n",
            "Audio extraído y guardado exitosamente: /content/drive/MyDrive/MAESTRIA/4 SEMESTRE/Deep Learning/data/audio/Universidad Central - Deep Learning - Clase 2: Regularización de Redes Neuronales (2024-08-17 08:36 GMT-5).mp3\n",
            "Proceso completado.\n"
          ]
        }
      ]
    }
  ]
}