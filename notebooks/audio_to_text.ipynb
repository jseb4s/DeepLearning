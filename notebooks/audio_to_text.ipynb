{
  "cells": [
    {
      "cell_type": "code",
      "execution_count": 1,
      "metadata": {
        "colab": {
          "base_uri": "https://localhost:8080/"
        },
        "id": "1mIQ7ej_nzws",
        "collapsed": true,
        "outputId": "2faab3f0-ba5f-466a-a0d3-2eaa332efd4f"
      },
      "outputs": [
        {
          "output_type": "stream",
          "name": "stdout",
          "text": [
            "Collecting faster_whisper\n",
            "  Downloading faster_whisper-1.0.3-py3-none-any.whl.metadata (15 kB)\n",
            "Collecting av<13,>=11.0 (from faster_whisper)\n",
            "  Downloading av-12.3.0-cp310-cp310-manylinux_2_17_x86_64.manylinux2014_x86_64.whl.metadata (4.6 kB)\n",
            "Collecting ctranslate2<5,>=4.0 (from faster_whisper)\n",
            "  Downloading ctranslate2-4.3.1-cp310-cp310-manylinux_2_17_x86_64.manylinux2014_x86_64.whl.metadata (10 kB)\n",
            "Requirement already satisfied: huggingface-hub>=0.13 in /usr/local/lib/python3.10/dist-packages (from faster_whisper) (0.23.5)\n",
            "Requirement already satisfied: tokenizers<1,>=0.13 in /usr/local/lib/python3.10/dist-packages (from faster_whisper) (0.19.1)\n",
            "Collecting onnxruntime<2,>=1.14 (from faster_whisper)\n",
            "  Downloading onnxruntime-1.19.0-cp310-cp310-manylinux_2_27_x86_64.manylinux_2_28_x86_64.whl.metadata (4.3 kB)\n",
            "Requirement already satisfied: setuptools in /usr/local/lib/python3.10/dist-packages (from ctranslate2<5,>=4.0->faster_whisper) (71.0.4)\n",
            "Requirement already satisfied: numpy in /usr/local/lib/python3.10/dist-packages (from ctranslate2<5,>=4.0->faster_whisper) (1.26.4)\n",
            "Requirement already satisfied: pyyaml<7,>=5.3 in /usr/local/lib/python3.10/dist-packages (from ctranslate2<5,>=4.0->faster_whisper) (6.0.2)\n",
            "Requirement already satisfied: filelock in /usr/local/lib/python3.10/dist-packages (from huggingface-hub>=0.13->faster_whisper) (3.15.4)\n",
            "Requirement already satisfied: fsspec>=2023.5.0 in /usr/local/lib/python3.10/dist-packages (from huggingface-hub>=0.13->faster_whisper) (2024.6.1)\n",
            "Requirement already satisfied: packaging>=20.9 in /usr/local/lib/python3.10/dist-packages (from huggingface-hub>=0.13->faster_whisper) (24.1)\n",
            "Requirement already satisfied: requests in /usr/local/lib/python3.10/dist-packages (from huggingface-hub>=0.13->faster_whisper) (2.32.3)\n",
            "Requirement already satisfied: tqdm>=4.42.1 in /usr/local/lib/python3.10/dist-packages (from huggingface-hub>=0.13->faster_whisper) (4.66.5)\n",
            "Requirement already satisfied: typing-extensions>=3.7.4.3 in /usr/local/lib/python3.10/dist-packages (from huggingface-hub>=0.13->faster_whisper) (4.12.2)\n",
            "Collecting coloredlogs (from onnxruntime<2,>=1.14->faster_whisper)\n",
            "  Downloading coloredlogs-15.0.1-py2.py3-none-any.whl.metadata (12 kB)\n",
            "Requirement already satisfied: flatbuffers in /usr/local/lib/python3.10/dist-packages (from onnxruntime<2,>=1.14->faster_whisper) (24.3.25)\n",
            "Requirement already satisfied: protobuf in /usr/local/lib/python3.10/dist-packages (from onnxruntime<2,>=1.14->faster_whisper) (3.20.3)\n",
            "Requirement already satisfied: sympy in /usr/local/lib/python3.10/dist-packages (from onnxruntime<2,>=1.14->faster_whisper) (1.13.2)\n",
            "Collecting humanfriendly>=9.1 (from coloredlogs->onnxruntime<2,>=1.14->faster_whisper)\n",
            "  Downloading humanfriendly-10.0-py2.py3-none-any.whl.metadata (9.2 kB)\n",
            "Requirement already satisfied: charset-normalizer<4,>=2 in /usr/local/lib/python3.10/dist-packages (from requests->huggingface-hub>=0.13->faster_whisper) (3.3.2)\n",
            "Requirement already satisfied: idna<4,>=2.5 in /usr/local/lib/python3.10/dist-packages (from requests->huggingface-hub>=0.13->faster_whisper) (3.7)\n",
            "Requirement already satisfied: urllib3<3,>=1.21.1 in /usr/local/lib/python3.10/dist-packages (from requests->huggingface-hub>=0.13->faster_whisper) (2.0.7)\n",
            "Requirement already satisfied: certifi>=2017.4.17 in /usr/local/lib/python3.10/dist-packages (from requests->huggingface-hub>=0.13->faster_whisper) (2024.7.4)\n",
            "Requirement already satisfied: mpmath<1.4,>=1.1.0 in /usr/local/lib/python3.10/dist-packages (from sympy->onnxruntime<2,>=1.14->faster_whisper) (1.3.0)\n",
            "Downloading faster_whisper-1.0.3-py3-none-any.whl (2.0 MB)\n",
            "\u001b[2K   \u001b[90m━━━━━━━━━━━━━━━━━━━━━━━━━━━━━━━━━━━━━━━━\u001b[0m \u001b[32m2.0/2.0 MB\u001b[0m \u001b[31m31.8 MB/s\u001b[0m eta \u001b[36m0:00:00\u001b[0m\n",
            "\u001b[?25hDownloading av-12.3.0-cp310-cp310-manylinux_2_17_x86_64.manylinux2014_x86_64.whl (33.5 MB)\n",
            "\u001b[2K   \u001b[90m━━━━━━━━━━━━━━━━━━━━━━━━━━━━━━━━━━━━━━━━\u001b[0m \u001b[32m33.5/33.5 MB\u001b[0m \u001b[31m20.1 MB/s\u001b[0m eta \u001b[36m0:00:00\u001b[0m\n",
            "\u001b[?25hDownloading ctranslate2-4.3.1-cp310-cp310-manylinux_2_17_x86_64.manylinux2014_x86_64.whl (192.3 MB)\n",
            "\u001b[2K   \u001b[90m━━━━━━━━━━━━━━━━━━━━━━━━━━━━━━━━━━━━━━━━\u001b[0m \u001b[32m192.3/192.3 MB\u001b[0m \u001b[31m7.0 MB/s\u001b[0m eta \u001b[36m0:00:00\u001b[0m\n",
            "\u001b[?25hDownloading onnxruntime-1.19.0-cp310-cp310-manylinux_2_27_x86_64.manylinux_2_28_x86_64.whl (13.2 MB)\n",
            "\u001b[2K   \u001b[90m━━━━━━━━━━━━━━━━━━━━━━━━━━━━━━━━━━━━━━━━\u001b[0m \u001b[32m13.2/13.2 MB\u001b[0m \u001b[31m66.9 MB/s\u001b[0m eta \u001b[36m0:00:00\u001b[0m\n",
            "\u001b[?25hDownloading coloredlogs-15.0.1-py2.py3-none-any.whl (46 kB)\n",
            "\u001b[2K   \u001b[90m━━━━━━━━━━━━━━━━━━━━━━━━━━━━━━━━━━━━━━━━\u001b[0m \u001b[32m46.0/46.0 kB\u001b[0m \u001b[31m1.8 MB/s\u001b[0m eta \u001b[36m0:00:00\u001b[0m\n",
            "\u001b[?25hDownloading humanfriendly-10.0-py2.py3-none-any.whl (86 kB)\n",
            "\u001b[2K   \u001b[90m━━━━━━━━━━━━━━━━━━━━━━━━━━━━━━━━━━━━━━━━\u001b[0m \u001b[32m86.8/86.8 kB\u001b[0m \u001b[31m3.7 MB/s\u001b[0m eta \u001b[36m0:00:00\u001b[0m\n",
            "\u001b[?25hInstalling collected packages: humanfriendly, ctranslate2, av, coloredlogs, onnxruntime, faster_whisper\n",
            "Successfully installed av-12.3.0 coloredlogs-15.0.1 ctranslate2-4.3.1 faster_whisper-1.0.3 humanfriendly-10.0 onnxruntime-1.19.0\n"
          ]
        }
      ],
      "source": [
        "!pip install faster_whisper"
      ]
    },
    {
      "cell_type": "code",
      "source": [
        "from google.colab import drive\n",
        "drive.mount('/content/drive')"
      ],
      "metadata": {
        "colab": {
          "base_uri": "https://localhost:8080/"
        },
        "id": "7wxnxCIGPWsM",
        "outputId": "4eb96e87-73cb-4ca2-8d38-21d4f71cc51e"
      },
      "execution_count": 3,
      "outputs": [
        {
          "output_type": "stream",
          "name": "stdout",
          "text": [
            "Mounted at /content/drive\n"
          ]
        }
      ]
    },
    {
      "cell_type": "code",
      "source": [
        "import os\n",
        "import time\n",
        "import warnings\n",
        "warnings.filterwarnings(\"ignore\", category=UserWarning, module=\"huggingface_hub\")\n",
        "from faster_whisper import WhisperModel"
      ],
      "metadata": {
        "id": "PUf00Au3J2jn"
      },
      "execution_count": 6,
      "outputs": []
    },
    {
      "cell_type": "markdown",
      "source": [
        "# Basic model"
      ],
      "metadata": {
        "id": "bdpvuNaLfwhr"
      }
    },
    {
      "cell_type": "code",
      "source": [
        "audio_folder_path = \"/content/drive/MyDrive/MAESTRIA/4 SEMESTRE/Deep Learning/data/audio/\"\n",
        "\n",
        "# 'tiny', 'base', 'small', 'medium', 'large'\n",
        "model = WhisperModel(\"base\", compute_type=\"float32\")\n",
        "\n",
        "audio_files = [f for f in os.listdir(audio_folder_path) if f.endswith('.mp3')]\n",
        "\n",
        "start_time = time.time()\n",
        "\n",
        "for audio_file in audio_files:\n",
        "    audio_file_path = os.path.join(audio_folder_path, audio_file)\n",
        "    segments, meta = model.transcribe(audio_file_path)\n",
        "    # hotwords=['inteligencia artificial', 'deep learning', 'aprendizaje profundo', 'gradiente', 'derivadas']\n",
        "    num_segments = len(list(segments))\n",
        "    print(f\"\\nSegmentos generados para {audio_file}: {num_segments}\")\n",
        "\n",
        "    transcript_output_path = os.path.join(audio_folder_path, f\"{os.path.splitext(audio_file)[0]}.txt\")\n",
        "\n",
        "    with open(transcript_output_path, \"w\") as file:\n",
        "        for segment in segments:\n",
        "            file.write(segment.text + \"\\n\")\n",
        "    print(meta)\n",
        "    #print(f\"Transcripción guardada exitosamente: {transcript_output_path}\\n\")\n",
        "\n",
        "end_time = time.time()\n",
        "execution_time = end_time - start_time\n",
        "print(\"-\"*30)\n",
        "print(f\"\\nProceso de transcripción completado en {execution_time:.2f} segundos.\")"
      ],
      "metadata": {
        "colab": {
          "base_uri": "https://localhost:8080/"
        },
        "id": "LJnKjJoEfl89",
        "outputId": "c28c8733-5666-4484-c1db-dc239e6104e7"
      },
      "execution_count": 13,
      "outputs": [
        {
          "output_type": "stream",
          "name": "stdout",
          "text": [
            "\n",
            "Segmentos generados para Universidad Central - Deep Learning - Clase 2: Regularización de Redes Neuronales (2024-08-17 07:15 GMT-5).mp3: 1440\n",
            "TranscriptionInfo(language='es', language_probability=0.9763216972351074, duration=4138.9106875, duration_after_vad=4138.9106875, all_language_probs=[('es', 0.9763216972351074), ('en', 0.009112867526710033), ('pt', 0.0026215941179543734), ('it', 0.0016427653608843684), ('gl', 0.0015417025424540043), ('fr', 0.0014084535650908947), ('ko', 0.0011659155134111643), ('ja', 0.000985389924608171), ('de', 0.0006312716868706048), ('eu', 0.0005810946458950639), ('ca', 0.0003552295675035566), ('pl', 0.00032324809581041336), ('id', 0.00031603631214238703), ('ru', 0.00030844315188005567), ('tr', 0.000274369289400056), ('la', 0.00025478089810349047), ('nn', 0.0002390634617768228), ('nl', 0.0002221244794782251), ('jw', 0.00017257120634894818), ('cy', 0.00016452638374175876), ('zh', 0.00015690369764342904), ('ta', 9.946496720658615e-05), ('haw', 9.125277574639767e-05), ('el', 9.099909948417917e-05), ('hi', 7.86699092714116e-05), ('tl', 7.555704360129312e-05), ('th', 7.52272317185998e-05), ('sv', 6.992950511630625e-05), ('fi', 6.955584103707224e-05), ('vi', 6.4801839471329e-05), ('ar', 5.3296153055271134e-05), ('km', 5.003549813409336e-05), ('ur', 4.3656185880536214e-05), ('hu', 4.2574065446387976e-05), ('be', 3.4685959690250456e-05), ('ms', 2.5099563572439365e-05), ('ml', 2.4931518055382185e-05), ('te', 2.1467240003403276e-05), ('mi', 1.740030711516738e-05), ('ro', 1.6786168998805806e-05), ('br', 1.6173073163372464e-05), ('bn', 1.393288948747795e-05), ('oc', 1.1617885320447385e-05), ('sn', 1.0483470759936608e-05), ('cs', 1.0401173312857281e-05), ('sa', 9.104054697672836e-06), ('no', 7.171011475293199e-06), ('he', 6.828050572948996e-06), ('fa', 6.621932698180899e-06), ('yo', 4.871222699875943e-06), ('sw', 4.108981556782965e-06), ('si', 4.074719981872477e-06), ('sk', 4.008411451650318e-06), ('hr', 3.981331246905029e-06), ('da', 3.884240868501365e-06), ('fo', 3.5349689824215602e-06), ('ht', 3.3904227620951133e-06), ('mn', 3.2478972116223304e-06), ('my', 2.283937192260055e-06), ('bo', 2.256549123558216e-06), ('is', 1.948438011822873e-06), ('bs', 1.9296592199680163e-06), ('af', 1.546983071420982e-06), ('sl', 1.439060497432365e-06), ('uk', 1.4068297105040983e-06), ('ne', 1.3061611525699846e-06), ('lo', 1.1971259255005862e-06), ('bg', 1.1698340358634596e-06), ('et', 1.0885256642723107e-06), ('yi', 9.8458065167506e-07), ('kn', 9.64909304457251e-07), ('sr', 9.498664326201833e-07), ('hy', 7.155575190154195e-07), ('as', 6.522355988636264e-07), ('sq', 6.07942297392583e-07), ('lt', 4.99154396038648e-07), ('mr', 4.86574208480306e-07), ('az', 4.7226146193679597e-07), ('mk', 4.596903977471811e-07), ('sd', 3.7279625075825606e-07), ('pa', 3.4706434348663606e-07), ('kk', 3.397726402454282e-07), ('mt', 3.2130148497344635e-07), ('ln', 2.7416299985816295e-07), ('ps', 2.7229575039200427e-07), ('ka', 2.631354902860039e-07), ('lv', 2.485002426055871e-07), ('gu', 2.0042840276346396e-07), ('am', 9.841915016295388e-08), ('so', 4.0353096864009785e-08), ('tg', 1.354252976426551e-08), ('su', 9.265442635353338e-09), ('tt', 7.623290443348196e-09), ('lb', 5.386527668349572e-09), ('ha', 4.0271261880775455e-09), ('mg', 1.4299799122596824e-09), ('uz', 1.4232532929980835e-09), ('ba', 1.268649851837722e-09), ('tk', 1.0914544823492633e-09)], transcription_options=TranscriptionOptions(beam_size=5, best_of=5, patience=1, length_penalty=1, repetition_penalty=1, no_repeat_ngram_size=0, log_prob_threshold=-1.0, no_speech_threshold=0.6, compression_ratio_threshold=2.4, condition_on_previous_text=True, prompt_reset_on_temperature=0.5, temperatures=[0.0, 0.2, 0.4, 0.6, 0.8, 1.0], initial_prompt=None, prefix=None, suppress_blank=True, suppress_tokens=[-1], without_timestamps=False, max_initial_timestamp=1.0, word_timestamps=False, prepend_punctuations='\"\\'“¿([{-', append_punctuations='\"\\'.。,，!！?？:：”)]}、', max_new_tokens=None, clip_timestamps='0', hallucination_silence_threshold=None, hotwords=None), vad_options=None)\n",
            "\n",
            "Segmentos generados para Universidad Central - Deep Learning - Clase 2: Regularización de Redes Neuronales (2024-08-17 08:36 GMT-5).mp3: 1943\n",
            "TranscriptionInfo(language='es', language_probability=0.9877963662147522, duration=6149.748, duration_after_vad=6149.748, all_language_probs=[('es', 0.9877963662147522), ('en', 0.004625184927135706), ('it', 0.0017946867737919092), ('pt', 0.0011763267684727907), ('eu', 0.0008646337082609534), ('gl', 0.0006607397808693349), ('ja', 0.0004127200518269092), ('la', 0.0003596977621782571), ('id', 0.00026721900212578475), ('ko', 0.000240020191995427), ('fr', 0.00023469702864531428), ('de', 0.00020321410556789488), ('ca', 0.00015344760322477669), ('pl', 0.0001415426522726193), ('ru', 9.58027012529783e-05), ('nn', 8.873222395777702e-05), ('ar', 7.889334665378556e-05), ('jw', 6.753295747330412e-05), ('km', 6.40884245513007e-05), ('cy', 6.163129000924528e-05), ('haw', 6.146869418444112e-05), ('tl', 5.4247797379503027e-05), ('zh', 3.859639400616288e-05), ('el', 3.709828888531774e-05), ('ta', 3.276520510553382e-05), ('nl', 3.061509414692409e-05), ('tr', 2.937552926596254e-05), ('ro', 2.9201792131061666e-05), ('fi', 2.4112800019793212e-05), ('sv', 2.3753504137857817e-05), ('te', 2.1620469851768576e-05), ('th', 1.812495793274138e-05), ('vi', 1.6307290934491903e-05), ('ms', 1.5390713087981567e-05), ('hi', 1.5060047189763281e-05), ('hu', 1.4219890545064118e-05), ('bn', 1.4187097804096993e-05), ('sn', 1.1831097253889311e-05), ('ur', 1.1374437235645019e-05), ('oc', 1.1056870789616369e-05), ('sa', 1.0631017175910529e-05), ('be', 9.97113784251269e-06), ('mi', 8.493660970998462e-06), ('he', 7.325533715629717e-06), ('sw', 7.110695150913671e-06), ('br', 6.444514838221949e-06), ('yo', 6.072003998269793e-06), ('ml', 4.762844127981225e-06), ('si', 4.524041742115514e-06), ('fa', 3.539415047271177e-06), ('hr', 3.2309492326021427e-06), ('cs', 3.0671862987219356e-06), ('ht', 2.5119425117736682e-06), ('sl', 2.159439191018464e-06), ('sk', 1.962267333510681e-06), ('mn', 1.943217966982047e-06), ('no', 1.8433196373734972e-06), ('af', 1.367720415146323e-06), ('is', 1.1482286481623305e-06), ('my', 1.118577074521454e-06), ('kn', 9.169759778160369e-07), ('lo', 8.890662570593122e-07), ('fo', 8.63294189912267e-07), ('hy', 8.178363373190223e-07), ('bs', 8.151545785040071e-07), ('uk', 7.834145208107657e-07), ('bo', 6.97488076184527e-07), ('da', 6.829063181612582e-07), ('et', 5.783405185866286e-07), ('mk', 5.423729021458712e-07), ('yi', 5.152340918357368e-07), ('ne', 5.050060281064361e-07), ('sr', 4.1139401218970306e-07), ('ps', 3.784864190947701e-07), ('mt', 3.383927946742915e-07), ('mr', 3.335489964229055e-07), ('bg', 3.280065925537201e-07), ('ln', 3.0225595537558547e-07), ('sq', 2.6264410735166166e-07), ('lt', 2.5789026381062286e-07), ('sd', 2.444715221372462e-07), ('lv', 2.2587529713291588e-07), ('as', 2.0424315039235807e-07), ('az', 1.9605620593665662e-07), ('ka', 1.8332050899516616e-07), ('kk', 1.614741336197767e-07), ('pa', 1.4041563645150745e-07), ('so', 8.777454496566861e-08), ('gu', 8.465058698448047e-08), ('am', 6.898194726545626e-08), ('tg', 1.082614264902304e-08), ('tt', 6.4607266203609015e-09), ('lb', 5.098412358961468e-09), ('su', 4.635247297102296e-09), ('ha', 2.472447802048805e-09), ('uz', 1.1631043905779848e-09), ('mg', 9.237911546833288e-10), ('ba', 7.154370429418577e-10), ('tk', 6.52871867679039e-10)], transcription_options=TranscriptionOptions(beam_size=5, best_of=5, patience=1, length_penalty=1, repetition_penalty=1, no_repeat_ngram_size=0, log_prob_threshold=-1.0, no_speech_threshold=0.6, compression_ratio_threshold=2.4, condition_on_previous_text=True, prompt_reset_on_temperature=0.5, temperatures=[0.0, 0.2, 0.4, 0.6, 0.8, 1.0], initial_prompt=None, prefix=None, suppress_blank=True, suppress_tokens=[-1], without_timestamps=False, max_initial_timestamp=1.0, word_timestamps=False, prepend_punctuations='\"\\'“¿([{-', append_punctuations='\"\\'.。,，!！?？:：”)]}、', max_new_tokens=None, clip_timestamps='0', hallucination_silence_threshold=None, hotwords=None), vad_options=None)\n",
            "------------------------------\n",
            "\n",
            "Proceso de transcripción completado en 344.81 segundos.\n"
          ]
        }
      ]
    },
    {
      "cell_type": "markdown",
      "source": [
        "# Basic model with arbitrary hyperparameter adjustment"
      ],
      "metadata": {
        "id": "MSDd1EdvgUa5"
      }
    },
    {
      "cell_type": "code",
      "source": [
        "audio_folder_path = \"/content/drive/MyDrive/MAESTRIA/4 SEMESTRE/Deep Learning/data/audio/\"\n",
        "\n",
        "# 'tiny', 'base', 'small', 'medium', 'large'\n",
        "model = WhisperModel(\"base\", compute_type=\"float16\")\n",
        "# hotwords=['inteligencia artificial', 'deep learning', 'aprendizaje profundo', 'gradiente', 'derivadas']\n",
        "\n",
        "audio_files = [f for f in os.listdir(audio_folder_path) if f.endswith('.mp3')]\n",
        "\n",
        "start_time = time.time()\n",
        "\n",
        "for audio_file in audio_files:\n",
        "    audio_file_path = os.path.join(audio_folder_path, audio_file)\n",
        "    segments, meta = model.transcribe(audio_file_path, language=\"es\", beam_size = 5, best_of = 5, patience = 2)\n",
        "\n",
        "    num_segments = len(list(segments))\n",
        "    print(f\"\\nSegmentos generados para {audio_file}: {num_segments}\")\n",
        "\n",
        "    transcript_output_path = os.path.join(audio_folder_path, f\"{os.path.splitext(audio_file)[0]}.txt\")\n",
        "\n",
        "    with open(transcript_output_path, \"w\") as file:\n",
        "        for segment in segments:\n",
        "            file.write(segment.text + \"\\n\")\n",
        "    print(meta)\n",
        "    #print(f\"Transcripción guardada exitosamente: {transcript_output_path}\\n\")\n",
        "\n",
        "end_time = time.time()\n",
        "execution_time = end_time - start_time\n",
        "print(\"-\"*30)\n",
        "print(f\"\\nProceso de transcripción completado en {execution_time:.2f} segundos.\")"
      ],
      "metadata": {
        "id": "SNmcSv2eI46a",
        "colab": {
          "base_uri": "https://localhost:8080/"
        },
        "outputId": "77107a2f-f3e0-453b-8bf6-d24504f93bb9"
      },
      "execution_count": 19,
      "outputs": [
        {
          "output_type": "stream",
          "name": "stdout",
          "text": [
            "\n",
            "Segmentos generados para Universidad Central - Deep Learning - Clase 2: Regularización de Redes Neuronales (2024-08-17 07:15 GMT-5).mp3: 713\n",
            "TranscriptionInfo(language='es', language_probability=1, duration=4138.9106875, duration_after_vad=4138.9106875, all_language_probs=None, transcription_options=TranscriptionOptions(beam_size=5, best_of=5, patience=2, length_penalty=1, repetition_penalty=1, no_repeat_ngram_size=0, log_prob_threshold=-1.0, no_speech_threshold=0.6, compression_ratio_threshold=2.4, condition_on_previous_text=True, prompt_reset_on_temperature=0.5, temperatures=[0.0, 0.2, 0.4, 0.6, 0.8, 1.0], initial_prompt=None, prefix=None, suppress_blank=True, suppress_tokens=[-1], without_timestamps=False, max_initial_timestamp=1.0, word_timestamps=False, prepend_punctuations='\"\\'“¿([{-', append_punctuations='\"\\'.。,，!！?？:：”)]}、', max_new_tokens=None, clip_timestamps='0', hallucination_silence_threshold=None, hotwords=None), vad_options=None)\n",
            "\n",
            "Segmentos generados para Universidad Central - Deep Learning - Clase 2: Regularización de Redes Neuronales (2024-08-17 08:36 GMT-5).mp3: 1159\n",
            "TranscriptionInfo(language='es', language_probability=1, duration=6149.748, duration_after_vad=6149.748, all_language_probs=None, transcription_options=TranscriptionOptions(beam_size=5, best_of=5, patience=2, length_penalty=1, repetition_penalty=1, no_repeat_ngram_size=0, log_prob_threshold=-1.0, no_speech_threshold=0.6, compression_ratio_threshold=2.4, condition_on_previous_text=True, prompt_reset_on_temperature=0.5, temperatures=[0.0, 0.2, 0.4, 0.6, 0.8, 1.0], initial_prompt=None, prefix=None, suppress_blank=True, suppress_tokens=[-1], without_timestamps=False, max_initial_timestamp=1.0, word_timestamps=False, prepend_punctuations='\"\\'“¿([{-', append_punctuations='\"\\'.。,，!！?？:：”)]}、', max_new_tokens=None, clip_timestamps='0', hallucination_silence_threshold=None, hotwords=None), vad_options=None)\n",
            "------------------------------\n",
            "\n",
            "Proceso de transcripción completado en 236.47 segundos.\n"
          ]
        }
      ]
    },
    {
      "cell_type": "markdown",
      "source": [
        "# Basic model with arbitrary hyperparameter adjustment + HW"
      ],
      "metadata": {
        "id": "1mM-HngZlhAU"
      }
    },
    {
      "cell_type": "code",
      "source": [
        "audio_folder_path = \"/content/drive/MyDrive/MAESTRIA/4 SEMESTRE/Deep Learning/data/audio/\"\n",
        "\n",
        "# 'tiny', 'base', 'small', 'medium', 'large'\n",
        "model = WhisperModel(\"base\", compute_type=\"float16\")\n",
        "hotwords = ' '.join(['inteligencia artificial', 'deep learning', 'aprendizaje profundo', 'gradiente', 'derivadas'])\n",
        "\n",
        "audio_files = [f for f in os.listdir(audio_folder_path) if f.endswith('.mp3')]\n",
        "\n",
        "start_time = time.time()\n",
        "\n",
        "for audio_file in audio_files:\n",
        "    audio_file_path = os.path.join(audio_folder_path, audio_file)\n",
        "    segments, meta = model.transcribe(audio_file_path, language=\"es\", beam_size = 5, best_of = 5, patience = 2, hotwords=hotwords)\n",
        "\n",
        "    num_segments = len(list(segments))\n",
        "    print(f\"\\nSegmentos generados para {audio_file}: {num_segments}\")\n",
        "\n",
        "    transcript_output_path = os.path.join(audio_folder_path, f\"{os.path.splitext(audio_file)[0]}.txt\")\n",
        "\n",
        "    with open(transcript_output_path, \"w\") as file:\n",
        "        for segment in segments:\n",
        "            file.write(segment.text + \"\\n\")\n",
        "    print(meta)\n",
        "    #print(f\"Transcripción guardada exitosamente: {transcript_output_path}\\n\")\n",
        "\n",
        "end_time = time.time()\n",
        "execution_time = end_time - start_time\n",
        "print(\"-\"*30)\n",
        "print(f\"\\nProceso de transcripción completado en {execution_time:.2f} segundos.\")"
      ],
      "metadata": {
        "colab": {
          "base_uri": "https://localhost:8080/"
        },
        "id": "zoYfFsL9jxEc",
        "outputId": "25a409e0-57c6-463c-9ae5-599fb3123f16"
      },
      "execution_count": 18,
      "outputs": [
        {
          "output_type": "stream",
          "name": "stdout",
          "text": [
            "\n",
            "Segmentos generados para Universidad Central - Deep Learning - Clase 2: Regularización de Redes Neuronales (2024-08-17 07:15 GMT-5).mp3: 959\n",
            "TranscriptionInfo(language='es', language_probability=1, duration=4138.9106875, duration_after_vad=4138.9106875, all_language_probs=None, transcription_options=TranscriptionOptions(beam_size=5, best_of=5, patience=2, length_penalty=1, repetition_penalty=1, no_repeat_ngram_size=0, log_prob_threshold=-1.0, no_speech_threshold=0.6, compression_ratio_threshold=2.4, condition_on_previous_text=True, prompt_reset_on_temperature=0.5, temperatures=[0.0, 0.2, 0.4, 0.6, 0.8, 1.0], initial_prompt=None, prefix=None, suppress_blank=True, suppress_tokens=[-1], without_timestamps=False, max_initial_timestamp=1.0, word_timestamps=False, prepend_punctuations='\"\\'“¿([{-', append_punctuations='\"\\'.。,，!！?？:：”)]}、', max_new_tokens=None, clip_timestamps='0', hallucination_silence_threshold=None, hotwords='inteligencia artificial deep learning aprendizaje profundo gradiente derivadas'), vad_options=None)\n",
            "\n",
            "Segmentos generados para Universidad Central - Deep Learning - Clase 2: Regularización de Redes Neuronales (2024-08-17 08:36 GMT-5).mp3: 838\n",
            "TranscriptionInfo(language='es', language_probability=1, duration=6149.748, duration_after_vad=6149.748, all_language_probs=None, transcription_options=TranscriptionOptions(beam_size=5, best_of=5, patience=2, length_penalty=1, repetition_penalty=1, no_repeat_ngram_size=0, log_prob_threshold=-1.0, no_speech_threshold=0.6, compression_ratio_threshold=2.4, condition_on_previous_text=True, prompt_reset_on_temperature=0.5, temperatures=[0.0, 0.2, 0.4, 0.6, 0.8, 1.0], initial_prompt=None, prefix=None, suppress_blank=True, suppress_tokens=[-1], without_timestamps=False, max_initial_timestamp=1.0, word_timestamps=False, prepend_punctuations='\"\\'“¿([{-', append_punctuations='\"\\'.。,，!！?？:：”)]}、', max_new_tokens=None, clip_timestamps='0', hallucination_silence_threshold=None, hotwords='inteligencia artificial deep learning aprendizaje profundo gradiente derivadas'), vad_options=None)\n",
            "------------------------------\n",
            "\n",
            "Proceso de transcripción completado en 220.40 segundos.\n"
          ]
        }
      ]
    },
    {
      "cell_type": "markdown",
      "source": [
        "# Resultados"
      ],
      "metadata": {
        "id": "8O_47fHQpATT"
      }
    },
    {
      "cell_type": "markdown",
      "source": [
        "|| Basic Model | Basic Model (arbitrary HyperP) | Basic Model (arbitrary HyperP+HW) |\n",
        "|---|---|---|---|\n",
        "| Segments | 1440+1943 = 3383 | 713+1159 = 1872 | 959+838=1797 |\n",
        "| Language P. | 98%~ |  1 | 1 |\n",
        "| Time (seconds) | 344,81 | 263,28 | 220,4 |"
      ],
      "metadata": {
        "id": "1wwgvViboTMq"
      }
    }
  ],
  "metadata": {
    "colab": {
      "provenance": [],
      "gpuType": "T4"
    },
    "kernelspec": {
      "display_name": "Python 3",
      "name": "python3"
    },
    "language_info": {
      "name": "python"
    },
    "accelerator": "GPU"
  },
  "nbformat": 4,
  "nbformat_minor": 0
}